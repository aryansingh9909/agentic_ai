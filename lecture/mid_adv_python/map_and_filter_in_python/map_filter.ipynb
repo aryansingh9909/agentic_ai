{
 "cells": [
  {
   "cell_type": "markdown",
   "metadata": {},
   "source": [
    "# Maps"
   ]
  },
  {
   "cell_type": "code",
   "execution_count": 17,
   "metadata": {},
   "outputs": [],
   "source": [
    "lst1 = [1, 2, 3, 7, 8]\n",
    "lst2 = [4, 5, 6, 10, 11, 12]"
   ]
  },
  {
   "cell_type": "markdown",
   "metadata": {},
   "source": [
    "### map takes first argument as func and then list."
   ]
  },
  {
   "cell_type": "code",
   "execution_count": 18,
   "metadata": {},
   "outputs": [
    {
     "name": "stdout",
     "output_type": "stream",
     "text": [
      "<map object at 0x108186290>\n",
      "[5, 7, 9, 17, 19]\n"
     ]
    }
   ],
   "source": [
    "list_add = map(lambda a,b:a+b, lst1, lst2)\n",
    "print(list_add)\n",
    "print(list(list_add))"
   ]
  },
  {
   "cell_type": "code",
   "execution_count": 20,
   "metadata": {},
   "outputs": [
    {
     "name": "stdout",
     "output_type": "stream",
     "text": [
      "<map object at 0x108186290>\n",
      "[4, 10, 18, 70, 88]\n"
     ]
    }
   ],
   "source": [
    "list_add = map(lambda a,b:a*b, lst1, lst2)\n",
    "print(list_add)\n",
    "print(list(list_add))"
   ]
  },
  {
   "cell_type": "markdown",
   "metadata": {},
   "source": [
    "### filter takes first argument as func and then list"
   ]
  },
  {
   "cell_type": "code",
   "execution_count": 24,
   "metadata": {},
   "outputs": [
    {
     "name": "stdout",
     "output_type": "stream",
     "text": [
      "<filter object at 0x108180eb0>\n",
      "[6, 10, 12]\n"
     ]
    }
   ],
   "source": [
    "greater_than = filter(lambda a:a>5 and a%2==0, lst2)\n",
    "print(greater_than)\n",
    "print(list(greater_than))"
   ]
  }
 ],
 "metadata": {
  "kernelspec": {
   "display_name": ".venv",
   "language": "python",
   "name": "python3"
  },
  "language_info": {
   "codemirror_mode": {
    "name": "ipython",
    "version": 3
   },
   "file_extension": ".py",
   "mimetype": "text/x-python",
   "name": "python",
   "nbconvert_exporter": "python",
   "pygments_lexer": "ipython3",
   "version": "3.12.0"
  }
 },
 "nbformat": 4,
 "nbformat_minor": 2
}
