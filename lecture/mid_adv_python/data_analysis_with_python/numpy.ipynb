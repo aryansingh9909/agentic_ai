{
 "cells": [
  {
   "cell_type": "markdown",
   "metadata": {},
   "source": [
    "# Numpy"
   ]
  },
  {
   "cell_type": "code",
   "execution_count": 1,
   "metadata": {},
   "outputs": [],
   "source": [
    "import numpy as np"
   ]
  },
  {
   "cell_type": "code",
   "execution_count": 2,
   "metadata": {},
   "outputs": [
    {
     "name": "stdout",
     "output_type": "stream",
     "text": [
      "Original array: [1 2 3]\n",
      "Array shape: (3,)\n",
      "<class 'numpy.ndarray'>\n"
     ]
    }
   ],
   "source": [
    "arr1 = np.array([1, 2, 3])\n",
    "print(\"Original array:\", arr1)\n",
    "print(\"Array shape:\", arr1.shape)\n",
    "print(type(arr1))"
   ]
  },
  {
   "cell_type": "markdown",
   "metadata": {},
   "source": [
    "## Attributes of numpy arrays"
   ]
  },
  {
   "cell_type": "code",
   "execution_count": 5,
   "metadata": {},
   "outputs": [
    {
     "name": "stdout",
     "output_type": "stream",
     "text": [
      "Array:\n",
      "[[1 2 3]\n",
      " [4 5 6]]\n",
      "Array shape: (2, 3)\n",
      "Number of dimensions: 2\n",
      "Size (number of elements): 6\n",
      "Data type of elements: int64\n",
      "Item size (in bytes): 8\n"
     ]
    }
   ],
   "source": [
    "## Attributes of numpy arrays\n",
    "arr = np.array([[1, 2, 3], [4, 5, 6]])\n",
    "\n",
    "print(f\"Array:\\n{arr}\")\n",
    "print(f\"Array shape: {arr.shape}\")\n",
    "print(f\"Number of dimensions: {arr.ndim}\")\n",
    "print(f\"Size (number of elements): {arr.size}\")\n",
    "print(f\"Data type of elements: {arr.dtype}\")\n",
    "print(f\"Item size (in bytes): {arr.itemsize}\")"
   ]
  },
  {
   "cell_type": "markdown",
   "metadata": {},
   "source": [
    "## Numpy Vectorized Operation"
   ]
  },
  {
   "cell_type": "code",
   "execution_count": 6,
   "metadata": {},
   "outputs": [
    {
     "name": "stdout",
     "output_type": "stream",
     "text": [
      "Element-wise addition:\n",
      "[11 22 33 44 55]\n",
      "Element-wise multiplication:\n",
      "[ 10  40  90 160 250]\n",
      "Element-wise subtraction:\n",
      "[ 9 18 27 36 45]\n",
      "Element-wise division:\n",
      "[0.1 0.1 0.1 0.1 0.1]\n"
     ]
    }
   ],
   "source": [
    "### Numpy Vectorized Operation\n",
    "arr1 = np.array([1, 2, 3, 4, 5])\n",
    "arr2 = np.array([10, 20, 30, 40, 50])\n",
    "\n",
    "### Element-wise addition\n",
    "arr_sum = arr1 + arr2\n",
    "print(f\"Element-wise addition:\\n{arr_sum}\")\n",
    "\n",
    "### Element-wise multiplication\n",
    "arr_product = arr1 * arr2\n",
    "print(f\"Element-wise multiplication:\\n{arr_product}\")\n",
    "\n",
    "### Element-wise substraction\n",
    "arr_diff = arr2 - arr1\n",
    "print(f\"Element-wise subtraction:\\n{arr_diff}\")\n",
    "\n",
    "### Element-wise division\n",
    "arr_div = arr1 / arr2\n",
    "print(f\"Element-wise division:\\n{arr_div}\")"
   ]
  },
  {
   "cell_type": "markdown",
   "metadata": {},
   "source": [
    "### Statistical oncepts-Normalization "
   ]
  },
  {
   "cell_type": "code",
   "execution_count": 15,
   "metadata": {},
   "outputs": [
    {
     "name": "stdout",
     "output_type": "stream",
     "text": [
      "Mean: 3.0, \n",
      "Standard Deviation: 1.4142135623730951\n",
      "Normalized array:\n",
      "[-1.41421356 -0.70710678  0.          0.70710678  1.41421356]\n"
     ]
    }
   ],
   "source": [
    "### Statistical operations\n",
    "### to have mean and standard deviation\n",
    "arr3 = np.array([1, 2, 3, 4, 5])\n",
    "\n",
    "### Calcualte the mean and standard deviation\n",
    "mean_value = np.mean(arr3)\n",
    "std_value = np.std(arr3)\n",
    "print(f\"Mean: {mean_value}, \\nStandard Deviation: {std_value}\")\n",
    "\n",
    "### Normalize the array\n",
    "normalized_arr = (arr3 - mean_value) / std_value\n",
    "print(f\"Normalized array:\\n{normalized_arr}\")"
   ]
  },
  {
   "cell_type": "markdown",
   "metadata": {},
   "source": [
    "### Logical Operation"
   ]
  },
  {
   "cell_type": "code",
   "execution_count": 20,
   "metadata": {},
   "outputs": [
    {
     "name": "stdout",
     "output_type": "stream",
     "text": [
      "[False False False False False  True  True  True  True  True]\n",
      "[ 6  7  8  9 10]\n",
      "[6 7 8]\n",
      "[ 1  2  3  4  5  6  7  8  9 10]\n"
     ]
    }
   ],
   "source": [
    "### Logical operations\n",
    "arr4 = np.array([1, 2, 3, 4, 5, 6, 7, 8, 9, 10])\n",
    "\n",
    "print(arr4>5)\n",
    "print(arr4[arr4 > 5])  # Filtering elements greater than 5\n",
    "print(arr4[(arr4 > 5) & (arr4 < 9)])  # Filtering elements between 5 and 9\n",
    "print(arr4)"
   ]
  }
 ],
 "metadata": {
  "kernelspec": {
   "display_name": ".venv",
   "language": "python",
   "name": "python3"
  },
  "language_info": {
   "codemirror_mode": {
    "name": "ipython",
    "version": 3
   },
   "file_extension": ".py",
   "mimetype": "text/x-python",
   "name": "python",
   "nbconvert_exporter": "python",
   "pygments_lexer": "ipython3",
   "version": "3.12.0"
  }
 },
 "nbformat": 4,
 "nbformat_minor": 2
}
