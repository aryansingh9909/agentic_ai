{
 "cells": [
  {
   "cell_type": "markdown",
   "metadata": {},
   "source": [
    "# Text Splitting from Document"
   ]
  },
  {
   "cell_type": "code",
   "execution_count": 1,
   "metadata": {},
   "outputs": [
    {
     "data": {
      "text/plain": [
       "[Document(metadata={'source': '../../data/sample.txt'}, page_content=\"After having escaped, Bhagat Singh and his associates used pseudonyms \\nto publicly announce avenging Lajpat Rai's death, putting up prepared posters \\nthat they had altered to show John Saunders as their intended target instead of James Scott. \\nSingh was thereafter on the run for many months, and no convictions resulted at the time. \\nSurfacing again in April 1929, he and another associate, Batukeshwar Dutt, set off two low-intensity \\nhomemade bombs among some unoccupied benches of the Central Legislative Assembly in Delhi. \\nThey showered leaflets from the gallery on the legislators below, shouted slogans, and allowed \\nthe authorities to arrest them.[14] The arrest, and the resulting publicity, brought to light Singh's \\ncomplicity in the John Saunders case. Awaiting trial, Singh gained public sympathy after he joined fellow \\ndefendant Jatin Das in a hunger strike, demanding better prison conditions for Indian prisoners, the strike \\nending in Das's death from starvation in September 1929.\")]"
      ]
     },
     "execution_count": 1,
     "metadata": {},
     "output_type": "execute_result"
    }
   ],
   "source": [
    "## Text Loader\n",
    "from langchain_community.document_loaders import TextLoader\n",
    "loader = TextLoader(\"../../tmp/sample.txt\")\n",
    "text_documents = loader.load()\n",
    "text_documents"
   ]
  },
  {
   "cell_type": "markdown",
   "metadata": {},
   "source": [
    "#### How to recursively split text by character"
   ]
  },
  {
   "cell_type": "code",
   "execution_count": 15,
   "metadata": {},
   "outputs": [
    {
     "data": {
      "text/plain": [
       "69"
      ]
     },
     "execution_count": 15,
     "metadata": {},
     "output_type": "execute_result"
    }
   ],
   "source": [
    "# How to recursively split text by character\n",
    "from langchain_text_splitters import RecursiveCharacterTextSplitter\n",
    "text_splitter= RecursiveCharacterTextSplitter(chunk_size=100, chunk_overlap=20)\n",
    "final_documents = text_splitter.split_documents(text_documents)\n",
    "final_documents\n",
    "# len(final_documents)\n",
    "len(final_documents[0].page_content)"
   ]
  },
  {
   "cell_type": "code",
   "execution_count": 11,
   "metadata": {},
   "outputs": [
    {
     "name": "stdout",
     "output_type": "stream",
     "text": [
      "page_content='After having escaped, Bhagat Singh and his associates used pseudonyms' metadata={'source': '../../data/sample.txt'}\n",
      "page_content='to publicly announce avenging Lajpat Rai's death, putting up prepared posters' metadata={'source': '../../data/sample.txt'}\n"
     ]
    }
   ],
   "source": [
    "print(final_documents[0])\n",
    "print(final_documents[1])"
   ]
  }
 ],
 "metadata": {
  "kernelspec": {
   "display_name": ".venv",
   "language": "python",
   "name": "python3"
  },
  "language_info": {
   "codemirror_mode": {
    "name": "ipython",
    "version": 3
   },
   "file_extension": ".py",
   "mimetype": "text/x-python",
   "name": "python",
   "nbconvert_exporter": "python",
   "pygments_lexer": "ipython3",
   "version": "3.12.0"
  }
 },
 "nbformat": 4,
 "nbformat_minor": 2
}
